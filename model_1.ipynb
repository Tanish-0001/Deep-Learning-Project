{
 "cells": [
  {
   "cell_type": "code",
   "id": "initial_id",
   "metadata": {
    "collapsed": true,
    "ExecuteTime": {
     "end_time": "2025-04-11T14:24:12.385394Z",
     "start_time": "2025-04-11T14:23:55.287883Z"
    }
   },
   "source": [
    "import torch\n",
    "import torch.nn as nn\n",
    "import torch.nn.functional as F\n",
    "from torch.utils.data import DataLoader\n",
    "from torchvision import datasets, transforms"
   ],
   "outputs": [],
   "execution_count": 1
  },
  {
   "metadata": {
    "ExecuteTime": {
     "end_time": "2025-04-11T14:38:16.395502Z",
     "start_time": "2025-04-11T14:38:13.423330Z"
    }
   },
   "cell_type": "code",
   "source": [
    "import os\n",
    "from glob import glob\n",
    "import torch\n",
    "from torchvision import datasets, transforms\n",
    "from torchvision.io import read_image\n",
    "\n",
    "folder_path = \"train\"\n",
    "\n",
    "transform = transforms.Compose([\n",
    "    transforms.Resize((224, 224)),\n",
    "])\n",
    "\n",
    "class_tensors = {1: [], 2: [], 3: [], 4: [], 5: [], 6: [], 7: []}\n",
    "\n",
    "for file_path in glob(os.path.join(folder_path, \"*.jpg\")):  # Update extension as per your image format\n",
    "    file_name = os.path.basename(file_path)\n",
    "    class_id = int(file_name.split(\"_\")[0])  # Extract class ID from the file name\n",
    "\n",
    "    image = read_image(file_path)\n",
    "    image = transform(image).float() / 255.0\n",
    "\n",
    "    class_tensors[class_id].append(image)\n",
    "\n",
    "for class_id in class_tensors:\n",
    "    class_tensors[class_id] = torch.stack(class_tensors[class_id])\n",
    "\n",
    "for class_id in class_tensors:\n",
    "    print(class_tensors[class_id].shape)"
   ],
   "id": "6e2a89ca8b0b7b7c",
   "outputs": [
    {
     "name": "stdout",
     "output_type": "stream",
     "text": [
      "torch.Size([112, 1, 224, 224])\n",
      "torch.Size([148, 1, 224, 224])\n",
      "torch.Size([343, 1, 224, 224])\n",
      "torch.Size([36, 1, 224, 224])\n",
      "torch.Size([253, 1, 224, 224])\n",
      "torch.Size([2073, 1, 224, 224])\n",
      "torch.Size([35, 1, 224, 224])\n"
     ]
    }
   ],
   "execution_count": 11
  },
  {
   "metadata": {
    "ExecuteTime": {
     "end_time": "2025-04-11T14:39:00.917978Z",
     "start_time": "2025-04-11T14:39:00.908945Z"
    }
   },
   "cell_type": "code",
   "source": "print(class_tensors[1][0])\n",
   "id": "c93040bfa935528d",
   "outputs": [
    {
     "name": "stdout",
     "output_type": "stream",
     "text": [
      "tensor([[[0.7294, 0.6902, 0.7529,  ..., 0.7608, 0.7412, 0.7333],\n",
      "         [0.7020, 0.7412, 0.5569,  ..., 0.5686, 0.5569, 0.7373],\n",
      "         [0.7255, 0.6941, 0.6157,  ..., 0.6863, 0.6824, 0.7882],\n",
      "         ...,\n",
      "         [0.7843, 0.5216, 0.6980,  ..., 0.7882, 0.7451, 0.7451],\n",
      "         [0.7059, 0.6706, 0.7843,  ..., 0.7804, 0.8000, 0.8667],\n",
      "         [0.7098, 0.6863, 0.7176,  ..., 0.4549, 0.5725, 0.7412]]])\n"
     ]
    }
   ],
   "execution_count": 12
  }
 ],
 "metadata": {
  "kernelspec": {
   "display_name": "Python 3",
   "language": "python",
   "name": "python3"
  },
  "language_info": {
   "codemirror_mode": {
    "name": "ipython",
    "version": 2
   },
   "file_extension": ".py",
   "mimetype": "text/x-python",
   "name": "python",
   "nbconvert_exporter": "python",
   "pygments_lexer": "ipython2",
   "version": "2.7.6"
  }
 },
 "nbformat": 4,
 "nbformat_minor": 5
}
